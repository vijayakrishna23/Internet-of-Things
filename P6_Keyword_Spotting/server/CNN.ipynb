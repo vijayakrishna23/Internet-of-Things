{
 "cells": [
  {
   "cell_type": "markdown",
   "metadata": {},
   "source": [
    "<h1><center> Convolutional Neural Networks for Speech Recognition </center></h1>"
   ]
  },
  {
   "cell_type": "markdown",
   "metadata": {},
   "source": [
    "## Import required libraries"
   ]
  },
  {
   "cell_type": "code",
   "execution_count": 114,
   "metadata": {},
   "outputs": [],
   "source": [
    "import os\n",
    "import numpy as np\n",
    "import librosa as lb\n",
    "from sklearn.preprocessing import LabelEncoder\n",
    "from sklearn.utils import shuffle\n",
    "from sklearn.model_selection import train_test_split\n",
    "import tensorflow as tf"
   ]
  },
  {
   "cell_type": "markdown",
   "metadata": {},
   "source": [
    "## Preprocessing"
   ]
  },
  {
   "cell_type": "markdown",
   "metadata": {},
   "source": [
    "### Audio file directory path"
   ]
  },
  {
   "cell_type": "code",
   "execution_count": 115,
   "metadata": {},
   "outputs": [],
   "source": [
    "dir_path = r'C:\\Users\\vjkri\\Desktop\\IoT\\P6'\n",
    "dirs = os.listdir(dir_path)"
   ]
  },
  {
   "cell_type": "code",
   "execution_count": 116,
   "metadata": {},
   "outputs": [],
   "source": [
    "all_folder = {}\n",
    "\n",
    "for name in dirs:\n",
    "    all_folder[name] = os.path.join(dir_path,name)"
   ]
  },
  {
   "cell_type": "code",
   "execution_count": 117,
   "metadata": {},
   "outputs": [],
   "source": [
    "all_audio_files = {}\n",
    "\n",
    "for key, value in all_folder.items():\n",
    "    path_directory = os.listdir(value)\n",
    "    all_audio_files.setdefault(key, [])\n",
    "    [all_audio_files[key].append(files) for files in path_directory]"
   ]
  },
  {
   "cell_type": "markdown",
   "metadata": {},
   "source": [
    "### Embed audio signals to MFCC features"
   ]
  },
  {
   "cell_type": "markdown",
   "metadata": {},
   "source": [
    "Extract MFCC features and save them in .npz format"
   ]
  },
  {
   "cell_type": "code",
   "execution_count": 118,
   "metadata": {},
   "outputs": [],
   "source": [
    "for key, value in all_audio_files.items():\n",
    "    nsamples_in_class = 1500\n",
    "    sampling_rate = 16000\n",
    "    class_arr = []\n",
    "    for audio_file in value:\n",
    "        audio_file_path = os.path.join(dir_path, key, audio_file)\n",
    "        ys, sr = lb.load(audio_file_path, mono=True, sr=None)\n",
    "        ys = ys[::3]\n",
    "        mfcc = lb.feature.mfcc(ys, sr= sampling_rate)\n",
    "        pad_width = 11 - mfcc.shape[1]\n",
    "        mfcc = np.pad(mfcc, pad_width=((0, 0), (0, pad_width)), mode='constant')\n",
    "        class_arr.append(mfcc)\n",
    "    class_arr = np.array(class_arr)\n",
    "    np.random.shuffle(class_arr)\n",
    "    class_arr = class_arr[: nsamples_in_class]\n",
    "    np.savez(str(key), class_arr)"
   ]
  },
  {
   "cell_type": "markdown",
   "metadata": {},
   "source": [
    "Load all saved arrays"
   ]
  },
  {
   "cell_type": "code",
   "execution_count": 119,
   "metadata": {},
   "outputs": [],
   "source": [
    "off_arr = np.load('off.npz')['arr_0']\n",
    "on_arr = np.load('on.npz')['arr_0']"
   ]
  },
  {
   "cell_type": "markdown",
   "metadata": {},
   "source": [
    "Concatenate all class arrays to a single feature matrix"
   ]
  },
  {
   "cell_type": "code",
   "execution_count": 120,
   "metadata": {},
   "outputs": [],
   "source": [
    "train_x = np.array([])\n",
    "train_x = np.concatenate((off_arr, on_arr), axis = 0)"
   ]
  },
  {
   "cell_type": "code",
   "execution_count": 121,
   "metadata": {},
   "outputs": [
    {
     "name": "stdout",
     "output_type": "stream",
     "text": [
      "(3000, 20, 11)\n"
     ]
    }
   ],
   "source": [
    "print(train_x.shape)"
   ]
  },
  {
   "cell_type": "markdown",
   "metadata": {},
   "source": [
    "Reshape the arrays conventional to CNN"
   ]
  },
  {
   "cell_type": "code",
   "execution_count": 122,
   "metadata": {},
   "outputs": [],
   "source": [
    "train_x = np.reshape(train_x, (train_x.shape[0], train_x.shape[1], train_x.shape[2], 1))"
   ]
  },
  {
   "cell_type": "code",
   "execution_count": 123,
   "metadata": {},
   "outputs": [
    {
     "name": "stdout",
     "output_type": "stream",
     "text": [
      "(3000, 20, 11, 1)\n"
     ]
    }
   ],
   "source": [
    "print(train_x.shape)"
   ]
  },
  {
   "cell_type": "markdown",
   "metadata": {},
   "source": [
    "Create numerical target variables"
   ]
  },
  {
   "cell_type": "code",
   "execution_count": 124,
   "metadata": {},
   "outputs": [],
   "source": [
    "target = []\n",
    "nClasses = 2\n",
    "\n",
    "target_var = [0,1]\n",
    "\n",
    "for i in range(0,2):\n",
    "    target.append([target_var[i]] * 1500)"
   ]
  },
  {
   "cell_type": "code",
   "execution_count": 125,
   "metadata": {},
   "outputs": [],
   "source": [
    "target = (np.array(target).flatten())"
   ]
  },
  {
   "cell_type": "code",
   "execution_count": 126,
   "metadata": {},
   "outputs": [],
   "source": [
    "target = np.reshape(target, (3000, 1))"
   ]
  },
  {
   "cell_type": "markdown",
   "metadata": {},
   "source": [
    "Encode target classes"
   ]
  },
  {
   "cell_type": "code",
   "execution_count": 127,
   "metadata": {},
   "outputs": [
    {
     "name": "stderr",
     "output_type": "stream",
     "text": [
      "C:\\Users\\vjkri\\Anaconda3\\lib\\site-packages\\sklearn\\preprocessing\\label.py:219: DataConversionWarning: A column-vector y was passed when a 1d array was expected. Please change the shape of y to (n_samples, ), for example using ravel().\n",
      "  y = column_or_1d(y, warn=True)\n",
      "C:\\Users\\vjkri\\Anaconda3\\lib\\site-packages\\sklearn\\preprocessing\\label.py:252: DataConversionWarning: A column-vector y was passed when a 1d array was expected. Please change the shape of y to (n_samples, ), for example using ravel().\n",
      "  y = column_or_1d(y, warn=True)\n"
     ]
    }
   ],
   "source": [
    "enc = LabelEncoder()\n",
    "enc.fit(target)\n",
    "target = enc.transform(target)"
   ]
  },
  {
   "cell_type": "markdown",
   "metadata": {},
   "source": [
    "Shuffle the dataset"
   ]
  },
  {
   "cell_type": "code",
   "execution_count": 128,
   "metadata": {},
   "outputs": [],
   "source": [
    "train_x, target = shuffle(train_x, target)"
   ]
  },
  {
   "cell_type": "markdown",
   "metadata": {},
   "source": [
    "Split dataset for training and validation"
   ]
  },
  {
   "cell_type": "code",
   "execution_count": 129,
   "metadata": {},
   "outputs": [],
   "source": [
    "train_x, test_x, train_y, test_y = train_test_split(train_x, target)"
   ]
  },
  {
   "cell_type": "markdown",
   "metadata": {},
   "source": [
    "## Convolutional Neural Networks"
   ]
  },
  {
   "cell_type": "markdown",
   "metadata": {},
   "source": [
    "CNN architecture"
   ]
  },
  {
   "cell_type": "code",
   "execution_count": 130,
   "metadata": {},
   "outputs": [],
   "source": [
    "def cnn_arch():\n",
    "    model = tf.keras.models.Sequential()\n",
    "    \n",
    "    model.add(tf.keras.layers.Conv2D(32, (3, 3), activation='relu', input_shape=input_shape))\n",
    "    \n",
    "    model.add(tf.keras.layers.Conv2D(64, (3, 3), activation='relu'))\n",
    "    model.add(tf.keras.layers.MaxPooling2D(pool_size=(2, 2)))\n",
    "    model.add(tf.keras.layers.Dropout(0.25))\n",
    "  \n",
    "    model.add(tf.keras.layers.Flatten())\n",
    "    \n",
    "    model.add(tf.keras.layers.Dense(220, activation='relu'))\n",
    "    model.add(tf.keras.layers.Dropout(0.25))\n",
    "    \n",
    "    model.add(tf.keras.layers.Dense(220, activation='relu'))\n",
    "    model.add(tf.keras.layers.Dropout(0.25))\n",
    "    \n",
    "    model.add(tf.keras.layers.Dense(1, activation='sigmoid'))\n",
    "\n",
    "    return model"
   ]
  },
  {
   "cell_type": "code",
   "execution_count": 131,
   "metadata": {},
   "outputs": [
    {
     "name": "stdout",
     "output_type": "stream",
     "text": [
      "(2250, 20, 11, 1)\n"
     ]
    }
   ],
   "source": [
    "print(train_x.shape)"
   ]
  },
  {
   "cell_type": "markdown",
   "metadata": {},
   "source": [
    "Define input shape and classes"
   ]
  },
  {
   "cell_type": "code",
   "execution_count": 133,
   "metadata": {},
   "outputs": [],
   "source": [
    "input_shape = (train_x.shape[1], train_x.shape[2], train_x.shape[3])\n",
    "cnn = cnn_arch()"
   ]
  },
  {
   "cell_type": "markdown",
   "metadata": {},
   "source": [
    "Summary of CNN architecture"
   ]
  },
  {
   "cell_type": "code",
   "execution_count": 134,
   "metadata": {},
   "outputs": [
    {
     "name": "stdout",
     "output_type": "stream",
     "text": [
      "_________________________________________________________________\n",
      "Layer (type)                 Output Shape              Param #   \n",
      "=================================================================\n",
      "conv2d_22 (Conv2D)           (None, 18, 9, 32)         320       \n",
      "_________________________________________________________________\n",
      "conv2d_23 (Conv2D)           (None, 16, 7, 64)         18496     \n",
      "_________________________________________________________________\n",
      "max_pooling2d_11 (MaxPooling (None, 8, 3, 64)          0         \n",
      "_________________________________________________________________\n",
      "dropout_36 (Dropout)         (None, 8, 3, 64)          0         \n",
      "_________________________________________________________________\n",
      "flatten_11 (Flatten)         (None, 1536)              0         \n",
      "_________________________________________________________________\n",
      "dense_37 (Dense)             (None, 220)               338140    \n",
      "_________________________________________________________________\n",
      "dropout_37 (Dropout)         (None, 220)               0         \n",
      "_________________________________________________________________\n",
      "dense_38 (Dense)             (None, 220)               48620     \n",
      "_________________________________________________________________\n",
      "dropout_38 (Dropout)         (None, 220)               0         \n",
      "_________________________________________________________________\n",
      "dense_39 (Dense)             (None, 1)                 221       \n",
      "=================================================================\n",
      "Total params: 405,797\n",
      "Trainable params: 405,797\n",
      "Non-trainable params: 0\n",
      "_________________________________________________________________\n",
      "None\n"
     ]
    }
   ],
   "source": [
    "print(cnn.summary())"
   ]
  },
  {
   "cell_type": "markdown",
   "metadata": {},
   "source": [
    "Compile the model"
   ]
  },
  {
   "cell_type": "code",
   "execution_count": 135,
   "metadata": {},
   "outputs": [],
   "source": [
    "cnn.compile(optimizer='adam', loss='binary_crossentropy', metrics=['accuracy'])"
   ]
  },
  {
   "cell_type": "markdown",
   "metadata": {},
   "source": [
    "Fit the model"
   ]
  },
  {
   "cell_type": "code",
   "execution_count": 136,
   "metadata": {},
   "outputs": [
    {
     "name": "stdout",
     "output_type": "stream",
     "text": [
      "Train on 2250 samples, validate on 750 samples\n",
      "Epoch 1/100\n",
      "2250/2250 [==============================] - 3s 1ms/sample - loss: 0.7960 - acc: 0.6427 - val_loss: 0.4069 - val_acc: 0.8253\n",
      "Epoch 2/100\n",
      "2250/2250 [==============================] - 2s 803us/sample - loss: 0.4205 - acc: 0.8044 - val_loss: 0.2868 - val_acc: 0.8747\n",
      "Epoch 3/100\n",
      "2250/2250 [==============================] - 2s 766us/sample - loss: 0.3158 - acc: 0.8636 - val_loss: 0.2942 - val_acc: 0.8787\n",
      "Epoch 4/100\n",
      "2250/2250 [==============================] - 2s 747us/sample - loss: 0.2565 - acc: 0.8893 - val_loss: 0.2186 - val_acc: 0.9027\n",
      "Epoch 5/100\n",
      "2250/2250 [==============================] - 2s 774us/sample - loss: 0.2141 - acc: 0.9129 - val_loss: 0.2088 - val_acc: 0.9160\n",
      "Epoch 6/100\n",
      "2250/2250 [==============================] - 2s 742us/sample - loss: 0.1754 - acc: 0.9240 - val_loss: 0.2235 - val_acc: 0.9107\n",
      "Epoch 7/100\n",
      "2250/2250 [==============================] - 2s 747us/sample - loss: 0.1606 - acc: 0.9324 - val_loss: 0.2927 - val_acc: 0.8893\n",
      "Epoch 8/100\n",
      "2250/2250 [==============================] - 2s 755us/sample - loss: 0.1440 - acc: 0.9449 - val_loss: 0.1538 - val_acc: 0.9333\n",
      "Epoch 9/100\n",
      "2250/2250 [==============================] - 2s 785us/sample - loss: 0.1211 - acc: 0.9507 - val_loss: 0.1475 - val_acc: 0.9373\n",
      "Epoch 10/100\n",
      "2250/2250 [==============================] - 2s 794us/sample - loss: 0.1176 - acc: 0.9520 - val_loss: 0.1729 - val_acc: 0.9373\n",
      "Epoch 11/100\n",
      "2250/2250 [==============================] - 2s 775us/sample - loss: 0.0998 - acc: 0.9596 - val_loss: 0.1506 - val_acc: 0.9427\n",
      "Epoch 12/100\n",
      "2250/2250 [==============================] - 2s 787us/sample - loss: 0.0710 - acc: 0.9747 - val_loss: 0.1537 - val_acc: 0.9387\n",
      "Epoch 13/100\n",
      "2250/2250 [==============================] - 2s 740us/sample - loss: 0.0698 - acc: 0.9733 - val_loss: 0.2285 - val_acc: 0.9267\n",
      "Epoch 14/100\n",
      "2250/2250 [==============================] - 2s 763us/sample - loss: 0.0637 - acc: 0.9738 - val_loss: 0.1715 - val_acc: 0.9453\n",
      "Epoch 15/100\n",
      "2250/2250 [==============================] - 2s 757us/sample - loss: 0.0495 - acc: 0.9804 - val_loss: 0.2537 - val_acc: 0.9227\n",
      "Epoch 16/100\n",
      "2250/2250 [==============================] - 2s 770us/sample - loss: 0.0536 - acc: 0.9791 - val_loss: 0.2603 - val_acc: 0.9240\n",
      "Epoch 17/100\n",
      "2250/2250 [==============================] - 2s 808us/sample - loss: 0.0748 - acc: 0.9738 - val_loss: 0.2216 - val_acc: 0.9253\n",
      "Epoch 18/100\n",
      "2250/2250 [==============================] - 2s 912us/sample - loss: 0.0635 - acc: 0.9747 - val_loss: 0.2193 - val_acc: 0.9253\n",
      "Epoch 19/100\n",
      "2250/2250 [==============================] - 2s 924us/sample - loss: 0.0507 - acc: 0.9827 - val_loss: 0.2210 - val_acc: 0.9387\n",
      "Epoch 20/100\n",
      "2250/2250 [==============================] - 2s 930us/sample - loss: 0.0379 - acc: 0.9844 - val_loss: 0.2035 - val_acc: 0.9320\n",
      "Epoch 21/100\n",
      "2250/2250 [==============================] - 2s 903us/sample - loss: 0.0257 - acc: 0.9916 - val_loss: 0.2396 - val_acc: 0.9347\n",
      "Epoch 22/100\n",
      "2250/2250 [==============================] - 2s 859us/sample - loss: 0.0434 - acc: 0.9831 - val_loss: 0.2763 - val_acc: 0.9307\n",
      "Epoch 23/100\n",
      "2250/2250 [==============================] - 2s 890us/sample - loss: 0.0594 - acc: 0.9787 - val_loss: 0.2275 - val_acc: 0.9213\n",
      "Epoch 24/100\n",
      "2250/2250 [==============================] - 2s 857us/sample - loss: 0.0372 - acc: 0.9876 - val_loss: 0.2748 - val_acc: 0.9213\n",
      "Epoch 25/100\n",
      "2250/2250 [==============================] - 2s 905us/sample - loss: 0.0479 - acc: 0.9862 - val_loss: 0.2900 - val_acc: 0.9067\n",
      "Epoch 26/100\n",
      "2250/2250 [==============================] - 2s 906us/sample - loss: 0.0321 - acc: 0.9880 - val_loss: 0.2566 - val_acc: 0.9187\n",
      "Epoch 27/100\n",
      "2250/2250 [==============================] - 2s 927us/sample - loss: 0.0310 - acc: 0.9884 - val_loss: 0.2353 - val_acc: 0.9320\n",
      "Epoch 28/100\n",
      "2250/2250 [==============================] - 2s 895us/sample - loss: 0.0458 - acc: 0.9809 - val_loss: 0.2029 - val_acc: 0.9360\n",
      "Epoch 29/100\n",
      "2250/2250 [==============================] - 2s 892us/sample - loss: 0.0273 - acc: 0.9893 - val_loss: 0.2438 - val_acc: 0.9373\n",
      "Epoch 30/100\n",
      "2250/2250 [==============================] - 2s 907us/sample - loss: 0.0230 - acc: 0.9929 - val_loss: 0.2977 - val_acc: 0.9147\n",
      "Epoch 31/100\n",
      "2250/2250 [==============================] - 2s 921us/sample - loss: 0.0192 - acc: 0.9911 - val_loss: 0.2745 - val_acc: 0.9427\n",
      "Epoch 32/100\n",
      "2250/2250 [==============================] - 2s 900us/sample - loss: 0.0520 - acc: 0.9849 - val_loss: 0.2397 - val_acc: 0.9360\n",
      "Epoch 33/100\n",
      "2250/2250 [==============================] - 2s 912us/sample - loss: 0.0421 - acc: 0.9853 - val_loss: 0.1882 - val_acc: 0.9413\n",
      "Epoch 34/100\n",
      "2250/2250 [==============================] - 2s 881us/sample - loss: 0.0174 - acc: 0.9929 - val_loss: 0.2907 - val_acc: 0.9307\n",
      "Epoch 35/100\n",
      "2250/2250 [==============================] - 2s 902us/sample - loss: 0.0176 - acc: 0.9933 - val_loss: 0.2568 - val_acc: 0.9267\n",
      "Epoch 36/100\n",
      "2250/2250 [==============================] - 2s 899us/sample - loss: 0.0266 - acc: 0.9902 - val_loss: 0.2577 - val_acc: 0.9387\n",
      "Epoch 37/100\n",
      "2250/2250 [==============================] - 2s 891us/sample - loss: 0.0195 - acc: 0.9920 - val_loss: 0.2115 - val_acc: 0.9400\n",
      "Epoch 38/100\n",
      "2250/2250 [==============================] - 2s 868us/sample - loss: 0.0203 - acc: 0.9929 - val_loss: 0.2265 - val_acc: 0.9347\n",
      "Epoch 39/100\n",
      "2250/2250 [==============================] - 2s 890us/sample - loss: 0.0187 - acc: 0.9938 - val_loss: 0.2148 - val_acc: 0.9453\n",
      "Epoch 40/100\n",
      "2250/2250 [==============================] - 2s 885us/sample - loss: 0.0211 - acc: 0.9942 - val_loss: 0.2448 - val_acc: 0.9333\n",
      "Epoch 41/100\n",
      "2250/2250 [==============================] - 2s 901us/sample - loss: 0.0304 - acc: 0.9893 - val_loss: 0.2034 - val_acc: 0.9387\n",
      "Epoch 42/100\n",
      "2250/2250 [==============================] - 2s 903us/sample - loss: 0.0328 - acc: 0.9880 - val_loss: 0.2215 - val_acc: 0.9360\n",
      "Epoch 43/100\n",
      "2250/2250 [==============================] - 2s 909us/sample - loss: 0.0370 - acc: 0.9876 - val_loss: 0.2408 - val_acc: 0.9400\n",
      "Epoch 44/100\n",
      "2250/2250 [==============================] - 2s 906us/sample - loss: 0.0264 - acc: 0.9898 - val_loss: 0.2404 - val_acc: 0.9373\n",
      "Epoch 45/100\n",
      "2250/2250 [==============================] - 2s 886us/sample - loss: 0.0177 - acc: 0.9933 - val_loss: 0.2309 - val_acc: 0.9253\n",
      "Epoch 46/100\n",
      "2250/2250 [==============================] - 2s 889us/sample - loss: 0.0153 - acc: 0.9920 - val_loss: 0.2775 - val_acc: 0.9267\n",
      "Epoch 47/100\n",
      "2250/2250 [==============================] - 2s 933us/sample - loss: 0.0087 - acc: 0.9973 - val_loss: 0.2587 - val_acc: 0.9333\n",
      "Epoch 48/100\n",
      "2250/2250 [==============================] - 2s 945us/sample - loss: 0.0138 - acc: 0.9938 - val_loss: 0.2142 - val_acc: 0.9413\n",
      "Epoch 49/100\n",
      "2250/2250 [==============================] - 2s 960us/sample - loss: 0.0126 - acc: 0.9938 - val_loss: 0.2136 - val_acc: 0.9427\n",
      "Epoch 50/100\n",
      "2250/2250 [==============================] - 2s 920us/sample - loss: 0.0176 - acc: 0.9956 - val_loss: 0.2238 - val_acc: 0.9427\n",
      "Epoch 51/100\n",
      "2250/2250 [==============================] - 2s 911us/sample - loss: 0.0090 - acc: 0.9973 - val_loss: 0.2761 - val_acc: 0.9347\n",
      "Epoch 52/100\n",
      "2250/2250 [==============================] - 2s 895us/sample - loss: 0.0303 - acc: 0.9907 - val_loss: 0.2739 - val_acc: 0.9347\n",
      "Epoch 53/100\n",
      "2250/2250 [==============================] - 2s 890us/sample - loss: 0.0438 - acc: 0.9871 - val_loss: 0.2950 - val_acc: 0.9187\n",
      "Epoch 54/100\n",
      "2250/2250 [==============================] - 2s 902us/sample - loss: 0.0154 - acc: 0.9942 - val_loss: 0.2425 - val_acc: 0.9293\n",
      "Epoch 55/100\n",
      "2250/2250 [==============================] - 2s 889us/sample - loss: 0.0119 - acc: 0.9964 - val_loss: 0.2646 - val_acc: 0.9320\n",
      "Epoch 56/100\n",
      "2250/2250 [==============================] - 2s 908us/sample - loss: 0.0135 - acc: 0.9964 - val_loss: 0.3585 - val_acc: 0.9267\n",
      "Epoch 57/100\n",
      "2250/2250 [==============================] - 2s 922us/sample - loss: 0.0192 - acc: 0.9947 - val_loss: 0.2590 - val_acc: 0.9347\n",
      "Epoch 58/100\n",
      "2250/2250 [==============================] - 2s 902us/sample - loss: 0.0092 - acc: 0.9969 - val_loss: 0.3501 - val_acc: 0.9173\n",
      "Epoch 59/100\n"
     ]
    },
    {
     "name": "stdout",
     "output_type": "stream",
     "text": [
      "2250/2250 [==============================] - 2s 835us/sample - loss: 0.0147 - acc: 0.9978 - val_loss: 0.2001 - val_acc: 0.9427\n",
      "Epoch 60/100\n",
      "2250/2250 [==============================] - 2s 837us/sample - loss: 0.0249 - acc: 0.9938 - val_loss: 0.3389 - val_acc: 0.9293\n",
      "Epoch 61/100\n",
      "2250/2250 [==============================] - 2s 836us/sample - loss: 0.0406 - acc: 0.9871 - val_loss: 0.2379 - val_acc: 0.9360\n",
      "Epoch 62/100\n",
      "2250/2250 [==============================] - 2s 859us/sample - loss: 0.0150 - acc: 0.9951 - val_loss: 0.2346 - val_acc: 0.9427\n",
      "Epoch 63/100\n",
      "2250/2250 [==============================] - 2s 843us/sample - loss: 0.0051 - acc: 0.9982 - val_loss: 0.2407 - val_acc: 0.9427\n",
      "Epoch 64/100\n",
      "2250/2250 [==============================] - 2s 835us/sample - loss: 0.0064 - acc: 0.9982 - val_loss: 0.2460 - val_acc: 0.9387\n",
      "Epoch 65/100\n",
      "2250/2250 [==============================] - 2s 835us/sample - loss: 0.0096 - acc: 0.9960 - val_loss: 0.2867 - val_acc: 0.9333\n",
      "Epoch 66/100\n",
      "2250/2250 [==============================] - 2s 840us/sample - loss: 0.0209 - acc: 0.9929 - val_loss: 0.2528 - val_acc: 0.9293\n",
      "Epoch 67/100\n",
      "2250/2250 [==============================] - 2s 838us/sample - loss: 0.0251 - acc: 0.9920 - val_loss: 0.2829 - val_acc: 0.9267\n",
      "Epoch 68/100\n",
      "2250/2250 [==============================] - 2s 848us/sample - loss: 0.0420 - acc: 0.9893 - val_loss: 0.2577 - val_acc: 0.9307\n",
      "Epoch 69/100\n",
      "2250/2250 [==============================] - 2s 832us/sample - loss: 0.0202 - acc: 0.9924 - val_loss: 0.2205 - val_acc: 0.9360\n",
      "Epoch 70/100\n",
      "2250/2250 [==============================] - 2s 832us/sample - loss: 0.0091 - acc: 0.9969 - val_loss: 0.1970 - val_acc: 0.9440\n",
      "Epoch 71/100\n",
      "2250/2250 [==============================] - 2s 842us/sample - loss: 0.0155 - acc: 0.9964 - val_loss: 0.1918 - val_acc: 0.9360\n",
      "Epoch 72/100\n",
      "2250/2250 [==============================] - 2s 853us/sample - loss: 0.0190 - acc: 0.9947 - val_loss: 0.2023 - val_acc: 0.9387\n",
      "Epoch 73/100\n",
      "2250/2250 [==============================] - 2s 859us/sample - loss: 0.0043 - acc: 0.9982 - val_loss: 0.2426 - val_acc: 0.9360\n",
      "Epoch 74/100\n",
      "2250/2250 [==============================] - 2s 851us/sample - loss: 0.0108 - acc: 0.9964 - val_loss: 0.2414 - val_acc: 0.9347\n",
      "Epoch 75/100\n",
      "2250/2250 [==============================] - 2s 849us/sample - loss: 0.0050 - acc: 0.9987 - val_loss: 0.2101 - val_acc: 0.9467\n",
      "Epoch 76/100\n",
      "2250/2250 [==============================] - 2s 850us/sample - loss: 0.0091 - acc: 0.9969 - val_loss: 0.2836 - val_acc: 0.9320\n",
      "Epoch 77/100\n",
      "2250/2250 [==============================] - 2s 849us/sample - loss: 0.0207 - acc: 0.9947 - val_loss: 0.1926 - val_acc: 0.9413\n",
      "Epoch 78/100\n",
      "2250/2250 [==============================] - 2s 869us/sample - loss: 0.0137 - acc: 0.9956 - val_loss: 0.2732 - val_acc: 0.9307\n",
      "Epoch 79/100\n",
      "2250/2250 [==============================] - 2s 851us/sample - loss: 0.0064 - acc: 0.9973 - val_loss: 0.2707 - val_acc: 0.9293\n",
      "Epoch 80/100\n",
      "2250/2250 [==============================] - 2s 853us/sample - loss: 0.0050 - acc: 0.9991 - val_loss: 0.2742 - val_acc: 0.9360\n",
      "Epoch 81/100\n",
      "2250/2250 [==============================] - 2s 884us/sample - loss: 0.0050 - acc: 0.9991 - val_loss: 0.3025 - val_acc: 0.9333\n",
      "Epoch 82/100\n",
      "2250/2250 [==============================] - 2s 880us/sample - loss: 0.0062 - acc: 0.9978 - val_loss: 0.2465 - val_acc: 0.9453\n",
      "Epoch 83/100\n",
      "2250/2250 [==============================] - 2s 894us/sample - loss: 0.0120 - acc: 0.9960 - val_loss: 0.2362 - val_acc: 0.9360\n",
      "Epoch 84/100\n",
      "2250/2250 [==============================] - 2s 890us/sample - loss: 0.0223 - acc: 0.9920 - val_loss: 0.2468 - val_acc: 0.9440\n",
      "Epoch 85/100\n",
      "2250/2250 [==============================] - 2s 859us/sample - loss: 0.0199 - acc: 0.9938 - val_loss: 0.2522 - val_acc: 0.9387\n",
      "Epoch 86/100\n",
      "2250/2250 [==============================] - 2s 854us/sample - loss: 0.0082 - acc: 0.9973 - val_loss: 0.2773 - val_acc: 0.9387\n",
      "Epoch 87/100\n",
      "2250/2250 [==============================] - 2s 853us/sample - loss: 0.0251 - acc: 0.9947 - val_loss: 0.2365 - val_acc: 0.9440\n",
      "Epoch 88/100\n",
      "2250/2250 [==============================] - 2s 921us/sample - loss: 0.0117 - acc: 0.9956 - val_loss: 0.2857 - val_acc: 0.9387\n",
      "Epoch 89/100\n",
      "2250/2250 [==============================] - 2s 885us/sample - loss: 0.0049 - acc: 0.9987 - val_loss: 0.3709 - val_acc: 0.9360\n",
      "Epoch 90/100\n",
      "2250/2250 [==============================] - 2s 867us/sample - loss: 0.0027 - acc: 0.9991 - val_loss: 0.3143 - val_acc: 0.9347\n",
      "Epoch 91/100\n",
      "2250/2250 [==============================] - 2s 879us/sample - loss: 0.0262 - acc: 0.9942 - val_loss: 0.2705 - val_acc: 0.9267\n",
      "Epoch 92/100\n",
      "2250/2250 [==============================] - 2s 867us/sample - loss: 0.0214 - acc: 0.9924 - val_loss: 0.4351 - val_acc: 0.9200\n",
      "Epoch 93/100\n",
      "2250/2250 [==============================] - 2s 865us/sample - loss: 0.0233 - acc: 0.9933 - val_loss: 0.2079 - val_acc: 0.9347\n",
      "Epoch 94/100\n",
      "2250/2250 [==============================] - 2s 879us/sample - loss: 0.0348 - acc: 0.9902 - val_loss: 0.1842 - val_acc: 0.9387\n",
      "Epoch 95/100\n",
      "2250/2250 [==============================] - 2s 901us/sample - loss: 0.0140 - acc: 0.9956 - val_loss: 0.1965 - val_acc: 0.9360\n",
      "Epoch 96/100\n",
      "2250/2250 [==============================] - 2s 864us/sample - loss: 0.0153 - acc: 0.9951 - val_loss: 0.2468 - val_acc: 0.9440\n",
      "Epoch 97/100\n",
      "2250/2250 [==============================] - 2s 869us/sample - loss: 0.0141 - acc: 0.9947 - val_loss: 0.1802 - val_acc: 0.9467\n",
      "Epoch 98/100\n",
      "2250/2250 [==============================] - 2s 872us/sample - loss: 0.0033 - acc: 0.9991 - val_loss: 0.2294 - val_acc: 0.9400\n",
      "Epoch 99/100\n",
      "2250/2250 [==============================] - 2s 864us/sample - loss: 0.0018 - acc: 1.0000 - val_loss: 0.2057 - val_acc: 0.9480\n",
      "Epoch 100/100\n",
      "2250/2250 [==============================] - 2s 852us/sample - loss: 0.0029 - acc: 0.9991 - val_loss: 0.2490 - val_acc: 0.9400\n"
     ]
    },
    {
     "data": {
      "text/plain": [
       "<tensorflow.python.keras.callbacks.History at 0x18f172657b8>"
      ]
     },
     "execution_count": 136,
     "metadata": {},
     "output_type": "execute_result"
    }
   ],
   "source": [
    "cnn.fit(train_x, train_y, epochs = 100, verbose = 1, validation_data = (test_x, test_y))"
   ]
  },
  {
   "cell_type": "markdown",
   "metadata": {},
   "source": [
    "Evaluate against Validation data"
   ]
  },
  {
   "cell_type": "code",
   "execution_count": 137,
   "metadata": {},
   "outputs": [],
   "source": [
    "cnn_json = cnn.to_json()\n",
    "with open(\"cnn.json\", \"w\") as json_file:\n",
    "    json_file.write(cnn_json)\n",
    "cnn.save_weights(\"cnn.h5\")"
   ]
  }
 ],
 "metadata": {
  "kernelspec": {
   "display_name": "Python 3",
   "language": "python",
   "name": "python3"
  },
  "language_info": {
   "codemirror_mode": {
    "name": "ipython",
    "version": 3
   },
   "file_extension": ".py",
   "mimetype": "text/x-python",
   "name": "python",
   "nbconvert_exporter": "python",
   "pygments_lexer": "ipython3",
   "version": "3.6.5"
  }
 },
 "nbformat": 4,
 "nbformat_minor": 2
}
